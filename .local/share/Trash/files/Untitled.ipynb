{
 "cells": [
  {
   "cell_type": "code",
   "execution_count": 1,
   "metadata": {},
   "outputs": [
    {
     "ename": "SyntaxError",
     "evalue": "invalid syntax (<ipython-input-1-14fc74fee46f>, line 2)",
     "output_type": "error",
     "traceback": [
      "\u001b[0;36m  File \u001b[0;32m\"<ipython-input-1-14fc74fee46f>\"\u001b[0;36m, line \u001b[0;32m2\u001b[0m\n\u001b[0;31m    pip install nbinteract\u001b[0m\n\u001b[0m              ^\u001b[0m\n\u001b[0;31mSyntaxError\u001b[0m\u001b[0;31m:\u001b[0m invalid syntax\n"
     ]
    }
   ],
   "source": [
    "# Installs nbinteract\n",
    "pip install nbinteract\n",
    "\n",
    "# Initializes nbinteract. When prompted, create a requirements.txt file. Since we aren't\n",
    "# adding additional packages in this tutorial, re-run the command to finish initialization.\n",
    "nbinteract init\n",
    "\n",
    "git add -A\n",
    "git commit -m \"Setup nbinteract\"\n",
    "git push origin master"
   ]
  },
  {
   "cell_type": "code",
   "execution_count": null,
   "metadata": {},
   "outputs": [],
   "source": [
    "# Importación de librerías\n",
    "import matplotlib.pylab as plt\n",
    "import numpy as np\n",
    "import ipywidgets as widgets\n",
    "from IPython.display import display\n",
    "%matplotlib nbagg"
   ]
  },
  {
   "cell_type": "code",
   "execution_count": null,
   "metadata": {},
   "outputs": [],
   "source": [
    "# Definición del campo de velocidades\n",
    "# Generación de la grilla de graficación\n",
    "x=np.linspace(-5,5,500); y=np.linspace(0,5,500)\n",
    "X,Y=np.meshgrid(x,y)\n",
    "\n",
    "# Cálculo del campo de velocidades\n",
    "u = 3*np.ones(X.shape); v = 0*np.ones(Y.shape)"
   ]
  },
  {
   "cell_type": "code",
   "execution_count": null,
   "metadata": {},
   "outputs": [],
   "source": [
    "f,a = plt.subplots()\n",
    "a.axis([-5, 5, 0, 5])\n",
    "a.streamplot(X,Y,u,v,density=1.5, color='#848587')\n",
    "pos = []\n",
    "def onclick(event):\n",
    "    pos.append([event.xdata,event.ydata])\n",
    "    a.plot(event.xdata,event.ydata,'ro')\n",
    "    a.plot(x,event.ydata*np.ones(x.shape),'b-')\n",
    "    a.plot(event.xdata*np.ones(y.shape),y, color='#f49b42')\n",
    "f.canvas.mpl_connect('button_press_event', onclick)\n",
    "f.show()"
   ]
  }
 ],
 "metadata": {
  "kernelspec": {
   "display_name": "Python 3",
   "language": "python",
   "name": "python3"
  },
  "language_info": {
   "codemirror_mode": {
    "name": "ipython",
    "version": 3
   },
   "file_extension": ".py",
   "mimetype": "text/x-python",
   "name": "python",
   "nbconvert_exporter": "python",
   "pygments_lexer": "ipython3",
   "version": "3.7.2"
  }
 },
 "nbformat": 4,
 "nbformat_minor": 2
}
